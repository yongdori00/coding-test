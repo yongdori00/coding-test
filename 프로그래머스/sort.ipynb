{
 "metadata": {
  "language_info": {
   "codemirror_mode": {
    "name": "ipython",
    "version": 3
   },
   "file_extension": ".py",
   "mimetype": "text/x-python",
   "name": "python",
   "nbconvert_exporter": "python",
   "pygments_lexer": "ipython3",
   "version": "3.8.5-final"
  },
  "orig_nbformat": 4,
  "kernelspec": {
   "name": "python3",
   "display_name": "Python 3.8.5 64-bit (conda)"
  },
  "interpreter": {
   "hash": "b3ba2566441a7c06988d0923437866b63cedc61552a5af99d1f4fb67d367b25f"
  }
 },
 "nbformat": 4,
 "nbformat_minor": 2,
 "cells": [
  {
   "cell_type": "code",
   "execution_count": 3,
   "metadata": {},
   "outputs": [
    {
     "output_type": "stream",
     "name": "stdout",
     "text": [
      "[5, 6, 3]\n"
     ]
    }
   ],
   "source": [
    "#\n",
    "\n",
    "def solution(array, commands):\n",
    "    answer = []\n",
    "    \n",
    "    for i in range(len(commands)):\n",
    "        temp_array = array[commands[i][0] - 1:commands[i][1]]\n",
    "        temp_array.sort()\n",
    "        answer.append(temp_array[commands[i][2] - 1])\n",
    "    \n",
    "    return answer\n",
    "\n",
    "print(solution([1, 5, 2, 6, 3, 7, 4], [[2, 5, 3], [4, 4, 1], [1, 7, 3]]))"
   ]
  },
  {
   "cell_type": "code",
   "execution_count": 13,
   "metadata": {},
   "outputs": [
    {
     "output_type": "stream",
     "name": "stdout",
     "text": [
      "['11', '101', '1000', '100', '1']\n"
     ]
    }
   ],
   "source": [
    "#biggest number\n",
    "def solution(numbers):\n",
    "    answer = ''\n",
    "    str_index = 0\n",
    "    \n",
    "    for i in range(len(numbers)):\n",
    "        numbers[i] = str(numbers[i])\n",
    "\n",
    "    numbers.sort(reverse = True)\n",
    "\n",
    "    \"\"\"for i in range(len(numbers) - 1):\n",
    "        if numbers[i][0] != numbers[i + 1][0]:\n",
    "            answer = answer + numbers[i]\n",
    "        else\n",
    "            for j in range(len(numbers[i]) - 1):\n",
    "                if int(numbers[i][j]) > int(numbers[i][j + 1]):\"\"\"\n",
    "    answer = numbers                    \n",
    "    return answer\n",
    "\n",
    "print(solution([11,101,1000,100,1]))"
   ]
  },
  {
   "cell_type": "code",
   "execution_count": null,
   "metadata": {},
   "outputs": [],
   "source": []
  }
 ]
}