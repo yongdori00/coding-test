{
 "metadata": {
  "language_info": {
   "codemirror_mode": {
    "name": "ipython",
    "version": 3
   },
   "file_extension": ".py",
   "mimetype": "text/x-python",
   "name": "python",
   "nbconvert_exporter": "python",
   "pygments_lexer": "ipython3",
   "version": "3.8.5-final"
  },
  "orig_nbformat": 4,
  "kernelspec": {
   "name": "python3",
   "display_name": "Python 3.8.5 64-bit (conda)"
  },
  "interpreter": {
   "hash": "b3ba2566441a7c06988d0923437866b63cedc61552a5af99d1f4fb67d367b25f"
  }
 },
 "nbformat": 4,
 "nbformat_minor": 2,
 "cells": [
  {
   "cell_type": "code",
   "execution_count": 8,
   "metadata": {},
   "outputs": [
    {
     "output_type": "stream",
     "name": "stdout",
     "text": [
      "2\n"
     ]
    }
   ],
   "source": [
    "#hotter\n",
    "\n",
    "def solution(scoville, K):\n",
    "    scoville.sort()\n",
    "    answer = 0\n",
    "    \n",
    "    for i in range(len(scoville) - 1):\n",
    "        if (scoville[i] < scoville[i + 1]) and (scoville[i] < scoville[i + 2]):\n",
    "            minimum = scoville[i]\n",
    "            if (scoville[i + 1] < scoville[i + 2]):     #123\n",
    "                minimum2 = scoville[i + 1]\n",
    "            else:     #132\n",
    "                minimum2 = scoville[i + 2]\n",
    "\n",
    "        elif (scoville[i + 1] < scoville[i]) and (scoville[i + 1] < scoville[i + 2]):\n",
    "            minimum = scoville[i + 1]\n",
    "            if (scoville[i] < scoville[i + 2]):         #213\n",
    "                minimum2 = scoville[i]\n",
    "            else:            #231\n",
    "                minimum = scoville[i + 2]\n",
    "        \n",
    "        elif (scoville[i + 2] < scoville[i]) and (scoville[i + 2] < scoville[i + 1]):\n",
    "            minimum = scoville[i + 2]\n",
    "            if (scoville[i] < scoville[i + 1]):\n",
    "                minimum2 = scoville[i]\n",
    "            else:\n",
    "                minimum2 = scoville[i + 1]\n",
    "\n",
    "    \n",
    "    return answer\n",
    "\n",
    "print(solution([1, 2, 3, 9, 10, 12], 7))"
   ]
  },
  {
   "cell_type": "code",
   "execution_count": null,
   "metadata": {},
   "outputs": [],
   "source": []
  }
 ]
}