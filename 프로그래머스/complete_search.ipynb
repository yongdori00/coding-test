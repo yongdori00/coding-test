{
 "metadata": {
  "language_info": {
   "codemirror_mode": {
    "name": "ipython",
    "version": 3
   },
   "file_extension": ".py",
   "mimetype": "text/x-python",
   "name": "python",
   "nbconvert_exporter": "python",
   "pygments_lexer": "ipython3",
   "version": "3.8.5-final"
  },
  "orig_nbformat": 4,
  "kernelspec": {
   "name": "python3",
   "display_name": "Python 3.8.5 64-bit (conda)"
  },
  "interpreter": {
   "hash": "b3ba2566441a7c06988d0923437866b63cedc61552a5af99d1f4fb67d367b25f"
  }
 },
 "nbformat": 4,
 "nbformat_minor": 2,
 "cells": [
  {
   "cell_type": "code",
   "execution_count": 19,
   "metadata": {},
   "outputs": [
    {
     "output_type": "stream",
     "name": "stdout",
     "text": [
      "[5, 0, 0]\n[1]\n"
     ]
    }
   ],
   "source": [
    "#모의고사\n",
    "\n",
    "def solution(answers):\n",
    "    answer = []\n",
    "    first = [1,2,3,4,5]\n",
    "    second = [2,1,2,3,2,4,2,5]\n",
    "    last = [3,3,1,1,2,2,4,4,5,5]\n",
    "    numbers_list = [0,0,0]\n",
    "\n",
    "    for i in range(len(answers)):\n",
    "        if answers[i] == first[i % 5]:\n",
    "            numbers_list[0] = numbers_list[0] + 1\n",
    "        if answers[i] == second[i % 8]:\n",
    "            numbers_list[1] = numbers_list[1] + 1\n",
    "        if answers[i] == last[i % 10]:\n",
    "            numbers_list[2] = numbers_list[2] + 1\n",
    "\n",
    "    max_num = max(numbers_list)\n",
    "\n",
    "    for i in range(3):\n",
    "        if numbers_list[i] == max_num:\n",
    "            answer.append(i + 1)\n",
    "\n",
    "    return answer\n",
    "\n",
    "print(solution([1,2,3,4,5]))"
   ]
  },
  {
   "cell_type": "code",
   "execution_count": null,
   "metadata": {},
   "outputs": [],
   "source": []
  }
 ]
}