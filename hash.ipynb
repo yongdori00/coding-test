{
 "metadata": {
  "language_info": {
   "codemirror_mode": {
    "name": "ipython",
    "version": 3
   },
   "file_extension": ".py",
   "mimetype": "text/x-python",
   "name": "python",
   "nbconvert_exporter": "python",
   "pygments_lexer": "ipython3",
   "version": "3.8.5-final"
  },
  "orig_nbformat": 4,
  "kernelspec": {
   "name": "python3",
   "display_name": "Python 3.8.5 64-bit (conda)"
  },
  "interpreter": {
   "hash": "b3ba2566441a7c06988d0923437866b63cedc61552a5af99d1f4fb67d367b25f"
  }
 },
 "nbformat": 4,
 "nbformat_minor": 2,
 "cells": [
  {
   "cell_type": "code",
   "execution_count": 3,
   "metadata": {},
   "outputs": [
    {
     "output_type": "stream",
     "name": "stdout",
     "text": [
      "True\n"
     ]
    }
   ],
   "source": [
    "#phone_book\n",
    "\n",
    "def solution(phone_book):\n",
    "    length = 0\n",
    "    len_list = []\n",
    "    answer = True\n",
    "    phone_book.sort(key = len)\n",
    "    crit = 0\n",
    "\n",
    "    for i in phone_book:\n",
    "        if len(i) != length:\n",
    "            len_list.append(phone_book.index(i))\n",
    "            length = len(i)\n",
    "        else:\n",
    "            continue\n",
    "\n",
    "    if len(len_list) != 1:\n",
    "        for numbers in range(len(phone_book)):\n",
    "            if len_list[crit + 1] == numbers:\n",
    "                crit = crit + 1                             #이 부분에서 런타임 에러 나는 듯\n",
    "            if (crit + 1) == len(len_list):\n",
    "                break\n",
    "            for numbers_2 in range(len_list[crit], len(phone_book)):\n",
    "                    if phone_book[numbers_2].startswith(phone_book[numbers]):\n",
    "                    answer = False\n",
    "                    return answer\n",
    "\n",
    "    return answer\n",
    "\n",
    "print(solution([\"123\"]))"
   ]
  },
  {
   "cell_type": "code",
   "execution_count": null,
   "metadata": {},
   "outputs": [],
   "source": [
    "#phone_book new\n",
    "def solution(phone_book):\n",
    "    answer = True\n",
    "    phone_book.sort()\n",
    "\n",
    "    for i in range(len(phone_book) - 1):\n",
    "        if phone_book[i+1].startswith(phone_book[i]):\n",
    "            answer = False\n",
    "            break\n",
    "\n",
    "    return answer\n"
   ]
  },
  {
   "cell_type": "code",
   "execution_count": 3,
   "metadata": {},
   "outputs": [],
   "source": [
    "#인터넷에서 베낌\n",
    "\n",
    "def solution(clothes):\n",
    "    answer = 1\n",
    "    sort_dict={}\n",
    "\n",
    "    for i in clothes:\n",
    "        sort_dict[i[1]] = sort_dict.get(i[1], 0) + 1\n",
    "\n",
    "    for i in sort_dict.values():\n",
    "        answer = answer * (i + 1)\n",
    "\n",
    "    return answer - 1"
   ]
  },
  {
   "cell_type": "code",
   "execution_count": null,
   "metadata": {},
   "outputs": [],
   "source": [
    "def solution(genres, plays):\n",
    "    answer = []\n",
    "    temp_list = []\n",
    "\n",
    "    for (play, \n",
    "\n",
    "    return answer"
   ]
  },
  {
   "cell_type": "code",
   "execution_count": null,
   "metadata": {},
   "outputs": [],
   "source": []
  },
  {
   "cell_type": "code",
   "execution_count": 2,
   "metadata": {},
   "outputs": [
    {
     "output_type": "error",
     "ename": "RuntimeError",
     "evalue": "Unable to open shape_predictor_68_face_landmarks.dat",
     "traceback": [
      "\u001b[1;31m---------------------------------------------------------------------------\u001b[0m",
      "\u001b[1;31mRuntimeError\u001b[0m                              Traceback (most recent call last)",
      "\u001b[1;32m<ipython-input-2-69c75b59f893>\u001b[0m in \u001b[0;36m<module>\u001b[1;34m\u001b[0m\n\u001b[0;32m     45\u001b[0m \u001b[1;33m\u001b[0m\u001b[0m\n\u001b[0;32m     46\u001b[0m \u001b[0mdetector\u001b[0m \u001b[1;33m=\u001b[0m \u001b[0mdlib\u001b[0m\u001b[1;33m.\u001b[0m\u001b[0mget_frontal_face_detector\u001b[0m\u001b[1;33m(\u001b[0m\u001b[1;33m)\u001b[0m\u001b[1;33m\u001b[0m\u001b[1;33m\u001b[0m\u001b[0m\n\u001b[1;32m---> 47\u001b[1;33m \u001b[0mpredictor\u001b[0m \u001b[1;33m=\u001b[0m \u001b[0mdlib\u001b[0m\u001b[1;33m.\u001b[0m\u001b[0mshape_predictor\u001b[0m\u001b[1;33m(\u001b[0m\u001b[0mPREDICTOR_PATH\u001b[0m\u001b[1;33m)\u001b[0m\u001b[1;33m\u001b[0m\u001b[1;33m\u001b[0m\u001b[0m\n\u001b[0m\u001b[0;32m     48\u001b[0m \u001b[1;33m\u001b[0m\u001b[0m\n\u001b[0;32m     49\u001b[0m \u001b[1;33m\u001b[0m\u001b[0m\n",
      "\u001b[1;31mRuntimeError\u001b[0m: Unable to open shape_predictor_68_face_landmarks.dat"
     ]
    }
   ],
   "source": []
  },
  {
   "cell_type": "code",
   "execution_count": null,
   "metadata": {},
   "outputs": [],
   "source": []
  }
 ]
}