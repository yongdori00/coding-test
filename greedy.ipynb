{
 "metadata": {
  "language_info": {
   "codemirror_mode": {
    "name": "ipython",
    "version": 3
   },
   "file_extension": ".py",
   "mimetype": "text/x-python",
   "name": "python",
   "nbconvert_exporter": "python",
   "pygments_lexer": "ipython3",
   "version": "3.8.5-final"
  },
  "orig_nbformat": 4,
  "kernelspec": {
   "name": "python3",
   "display_name": "Python 3.8.5 64-bit (conda)"
  },
  "interpreter": {
   "hash": "b3ba2566441a7c06988d0923437866b63cedc61552a5af99d1f4fb67d367b25f"
  }
 },
 "nbformat": 4,
 "nbformat_minor": 2,
 "cells": [
  {
   "cell_type": "code",
   "execution_count": 5,
   "metadata": {},
   "outputs": [
    {
     "output_type": "stream",
     "name": "stdout",
     "text": [
      "2\n"
     ]
    }
   ],
   "source": [
    "#training clothes\n",
    "\n",
    "def solution(n, lost, reserve):\n",
    "    answer = n\n",
    "\n",
    "    cur_num = [1 for i in range(n)]\n",
    "\n",
    "    for i in lost:\n",
    "        cur_num[i - 1] = cur_num[i - 1] - 1\n",
    "    \n",
    "    for i in reserve:\n",
    "        cur_num[i - 1] = cur_num[i - 1] + 1\n",
    "\n",
    "    for i in range(len(cur_num)):\n",
    "        if (i == 0):\n",
    "            if (cur_num[i] == 2 and cur_num[i+1] == 0):\n",
    "                cur_num[i] = 1\n",
    "                cur_num[i + 1] = 1\n",
    "        elif (i == len(cur_num) - 1):\n",
    "            if (cur_num[i] == 2 and cur_num[i - 1] == 0):\n",
    "                cur_num[i] = 1\n",
    "                cur_num[i - 1] = 1\n",
    "\n",
    "        elif cur_num[i] == 2:\n",
    "            cur_num[i] = 1\n",
    "            if cur_num[i - 1] == 0:\n",
    "                cur_num[i - 1] = 1\n",
    "            elif cur_num[i + 1] == 0:\n",
    "                cur_num[i + 1] = 1\n",
    "\n",
    "    for i in range(n):\n",
    "        if cur_num[i] == 0:\n",
    "            answer = answer - 1\n",
    "\n",
    "    return answer\n",
    "\n",
    "print(solution(3, [3], [1]))"
   ]
  },
  {
   "cell_type": "code",
   "execution_count": null,
   "metadata": {},
   "outputs": [],
   "source": []
  }
 ]
}